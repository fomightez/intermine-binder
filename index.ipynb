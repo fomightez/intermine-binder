{
 "cells": [
  {
   "cell_type": "markdown",
   "metadata": {},
   "source": [
    "# Simple Example: Running code direct from an Intermine site in a notebook\n",
    "\n",
    "----"
   ]
  },
  {
   "cell_type": "code",
   "execution_count": null,
   "metadata": {},
   "outputs": [],
   "source": [
    "from intermine.webservice import Service\n",
    "service = Service(\"https://yeastmine.yeastgenome.org:443/yeastmine/service\")\n",
    "query = service.new_query(\"Gene\")\n",
    "query.add_view(\n",
    "    \"primaryIdentifier\", \"secondaryIdentifier\", \"organism.shortName\", \"symbol\",\n",
    "    \"name\"\n",
    ")\n",
    "query.add_constraint(\"Gene\", \"IN\", \"ALL_Verified_Uncharacterized_Dubious_ORFs\", code = \"A\")\n",
    "\n",
    "for row in query.rows():\n",
    "    print row[\"primaryIdentifier\"], row[\"secondaryIdentifier\"], row[\"organism.shortName\"], \\\n",
    "        row[\"symbol\"], row[\"name\"]"
   ]
  },
  {
   "cell_type": "markdown",
   "metadata": {},
   "source": [
    "Paste your own code collected from the Intermine into the cell above and press the `Run` button on the toolbar above or hit `shift-enter` while clicked on that cell to run it.  \n",
    "Don't be surprised if when it tries to run it reports in the output an error about `Missing parentheses in call to 'print'`. Right now Intermine sites generate Python 2-formatted code, and a conversion is necessary to run it successfully in the Python 3 universe. Because Python 2 will be unsupported shortly and Python 3 has many terrific features, it is best to use Python 3. This repo has been set up to automate that conversion with the press of a button.\n",
    "\n",
    "To perfrom the correction click in the cell where you pasted the code, and then click the button up on the right side of the toolbar that says `Convert current cell from Python 2 to 3`. Now try again to run the code in the cell with shift-enter, and it should work."
   ]
  },
  {
   "cell_type": "code",
   "execution_count": null,
   "metadata": {},
   "outputs": [],
   "source": []
  }
 ],
 "metadata": {
  "kernelspec": {
   "display_name": "Python 3",
   "language": "python",
   "name": "python3"
  },
  "language_info": {
   "codemirror_mode": {
    "name": "ipython",
    "version": 3
   },
   "file_extension": ".py",
   "mimetype": "text/x-python",
   "name": "python",
   "nbconvert_exporter": "python",
   "pygments_lexer": "ipython3",
   "version": "3.6.3"
  }
 },
 "nbformat": 4,
 "nbformat_minor": 2
}
