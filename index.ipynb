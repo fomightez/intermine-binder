{
 "cells": [
  {
   "cell_type": "markdown",
   "metadata": {},
   "source": [
    "# Simple Example: Running code direct from an Intermine site in a notebook\n",
    "\n",
    "----"
   ]
  },
  {
   "cell_type": "code",
   "execution_count": null,
   "metadata": {},
   "outputs": [],
   "source": [
    "from intermine.webservice import Service\n",
    "service = Service(\"https://yeastmine.yeastgenome.org:443/yeastmine/service\")\n",
    "query = service.new_query(\"Gene\")\n",
    "query.add_view(\n",
    "    \"primaryIdentifier\", \"secondaryIdentifier\", \"organism.shortName\", \"symbol\",\n",
    "    \"name\"\n",
    ")\n",
    "query.add_constraint(\"Gene\", \"IN\", \"ALL_Verified_Uncharacterized_Dubious_ORFs\", code = \"A\")\n",
    "\n",
    "for row in query.rows():\n",
    "    print row[\"primaryIdentifier\"], row[\"secondaryIdentifier\"], row[\"organism.shortName\"], \\\n",
    "        row[\"symbol\"], row[\"name\"]"
   ]
  }
 ],
 "metadata": {
  "kernelspec": {
   "display_name": "Python 3",
   "language": "python",
   "name": "python3"
  },
  "language_info": {
   "codemirror_mode": {
    "name": "ipython",
    "version": 3
   },
   "file_extension": ".py",
   "mimetype": "text/x-python",
   "name": "python",
   "nbconvert_exporter": "python",
   "pygments_lexer": "ipython3",
   "version": "3.6.3"
  }
 },
 "nbformat": 4,
 "nbformat_minor": 2
}
